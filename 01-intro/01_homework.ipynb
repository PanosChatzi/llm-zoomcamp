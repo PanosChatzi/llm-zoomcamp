{
 "cells": [
  {
   "cell_type": "markdown",
   "id": "053c739f-e7fa-4232-920d-5c4cf1c578e9",
   "metadata": {},
   "source": [
    "# Homework"
   ]
  },
  {
   "cell_type": "markdown",
   "id": "a920e2f1-395d-48d4-b61c-c623c3302ade",
   "metadata": {},
   "source": [
    "## Library"
   ]
  },
  {
   "cell_type": "code",
   "execution_count": 3,
   "id": "8b049c2f-9049-462b-836e-b946a912c25a",
   "metadata": {},
   "outputs": [],
   "source": [
    "import requests \n",
    "import json\n",
    "from tqdm.auto import tqdm\n",
    "from elasticsearch import Elasticsearch"
   ]
  },
  {
   "cell_type": "markdown",
   "id": "ca569d90-16a8-498f-8be3-e6940ea1063c",
   "metadata": {},
   "source": [
    "## Data"
   ]
  },
  {
   "cell_type": "code",
   "execution_count": 103,
   "id": "341e893f-296a-4181-a9a7-d3ceb693bc4e",
   "metadata": {},
   "outputs": [],
   "source": [
    "docs_url = 'https://github.com/DataTalksClub/llm-zoomcamp/blob/main/01-intro/documents.json?raw=1'\n",
    "docs_response = requests.get(docs_url)\n",
    "documents_raw = docs_response.json()\n",
    "\n",
    "documents = []\n",
    "\n",
    "for course in documents_raw:\n",
    "    course_name = course['course']\n",
    "\n",
    "    for doc in course['documents']:\n",
    "        doc['course'] = course_name\n",
    "        documents.append(doc)"
   ]
  },
  {
   "cell_type": "markdown",
   "id": "df047353-c25a-4860-8538-1a67ad1b4a6a",
   "metadata": {},
   "source": [
    "## Questions"
   ]
  },
  {
   "cell_type": "markdown",
   "id": "90c25c0b-5fd6-48b8-a9b5-a1a73b79eaaf",
   "metadata": {},
   "source": [
    "#### Question 1. Running Elastic"
   ]
  },
  {
   "cell_type": "code",
   "execution_count": 102,
   "id": "211d29a6-bbeb-4dbd-a2be-b4fb47a2df1f",
   "metadata": {},
   "outputs": [
    {
     "name": "stdout",
     "output_type": "stream",
     "text": [
      "{\n",
      "  \"name\" : \"d51b9ad5a2af\",\n",
      "  \"cluster_name\" : \"docker-cluster\",\n",
      "  \"cluster_uuid\" : \"LHJ-n69KSQ-c5RqPmaKC0w\",\n",
      "  \"version\" : {\n",
      "    \"number\" : \"9.0.2\",\n",
      "    \"build_flavor\" : \"default\",\n",
      "    \"build_type\" : \"docker\",\n",
      "    \"build_hash\" : \"0a58bc1dc7a4ae5412db66624aab968370bd44ce\",\n",
      "    \"build_date\" : \"2025-05-28T10:06:37.834829258Z\",\n",
      "    \"build_snapshot\" : false,\n",
      "    \"lucene_version\" : \"10.1.0\",\n",
      "    \"minimum_wire_compatibility_version\" : \"8.18.0\",\n",
      "    \"minimum_index_compatibility_version\" : \"8.0.0\"\n",
      "  },\n",
      "  \"tagline\" : \"You Know, for Search\"\n",
      "}\n"
     ]
    }
   ],
   "source": [
    "!curl localhost:9200"
   ]
  },
  {
   "cell_type": "markdown",
   "id": "0548909a-8975-41e6-a29b-72684055a0e6",
   "metadata": {},
   "source": [
    "#### Question 2. Indexing the data"
   ]
  },
  {
   "cell_type": "code",
   "execution_count": 104,
   "id": "cbb78053-ba38-4d94-9d3d-fc0c03ee7d31",
   "metadata": {},
   "outputs": [],
   "source": [
    "es_client = Elasticsearch('http://localhost:9200')"
   ]
  },
  {
   "cell_type": "code",
   "execution_count": 105,
   "id": "beabe070-dece-46b9-88d8-0902403a311d",
   "metadata": {},
   "outputs": [
    {
     "data": {
      "text/plain": [
       "ObjectApiResponse({'acknowledged': True, 'shards_acknowledged': True, 'index': 'course-questions'})"
      ]
     },
     "execution_count": 105,
     "metadata": {},
     "output_type": "execute_result"
    }
   ],
   "source": [
    "index_settings = {\n",
    "    \"settings\": {\n",
    "        \"number_of_shards\": 1,\n",
    "        \"number_of_replicas\": 0\n",
    "    },\n",
    "    \"mappings\": {\n",
    "        \"properties\": {\n",
    "            \"text\": {\"type\": \"text\"},\n",
    "            \"section\": {\"type\": \"text\"},\n",
    "            \"question\": {\"type\": \"text\"},\n",
    "            \"course\": {\"type\": \"keyword\"} \n",
    "        }\n",
    "    }\n",
    "}\n",
    "\n",
    "index_name = \"course-questions\"\n",
    "\n",
    "es_client.indices.create(index=index_name, body=index_settings)"
   ]
  },
  {
   "cell_type": "code",
   "execution_count": 106,
   "id": "a43bc344-28f7-4e74-bcc7-408b0da6cbda",
   "metadata": {},
   "outputs": [],
   "source": [
    "for doc in documents:\n",
    "    es_client.index(index=index_name, document=doc)"
   ]
  },
  {
   "cell_type": "markdown",
   "id": "0a09b1ed-55a4-44c5-8275-0b0397313c03",
   "metadata": {},
   "source": [
    "#### Question 3. Searching"
   ]
  },
  {
   "cell_type": "code",
   "execution_count": 107,
   "id": "4ae76133-76ea-4c22-bba6-0c912f97036f",
   "metadata": {},
   "outputs": [],
   "source": [
    "query = \"How do execute a command on a Kubernetes pod?\""
   ]
  },
  {
   "cell_type": "code",
   "execution_count": 108,
   "id": "28628688-59c2-4ab7-900a-64f029c449c8",
   "metadata": {},
   "outputs": [],
   "source": [
    "def elastic_search(query):\n",
    "    search_query = {\n",
    "        \"size\": 5,\n",
    "        \"query\": {\n",
    "            \"bool\": {\n",
    "                \"must\": {\n",
    "                    \"multi_match\": {\n",
    "                        \"query\": query,\n",
    "                        \"fields\": [\"question^4\", \"text\"],\n",
    "                        \"type\": \"best_fields\"\n",
    "                    }\n",
    "                }\n",
    "            }\n",
    "        }\n",
    "    }\n",
    "\n",
    "    response = es_client.search(index=index_name, body=search_query)\n",
    "\n",
    "    result_scores = []\n",
    "    \n",
    "    for hit in response['hits']['hits']:\n",
    "        result_scores.append(hit['_score'])\n",
    "\n",
    "    return result_scores"
   ]
  },
  {
   "cell_type": "code",
   "execution_count": 109,
   "id": "19fa1328-555d-4638-9483-fb221baa29da",
   "metadata": {
    "scrolled": true
   },
   "outputs": [
    {
     "data": {
      "text/plain": [
       "[44.50556, 35.433445, 33.70974, 33.2635, 32.589073]"
      ]
     },
     "execution_count": 109,
     "metadata": {},
     "output_type": "execute_result"
    }
   ],
   "source": [
    "elastic_search(query)"
   ]
  },
  {
   "cell_type": "markdown",
   "id": "47a2979b-385c-469e-b564-a60d90417b19",
   "metadata": {},
   "source": [
    "#### Question 4. Filtering"
   ]
  },
  {
   "cell_type": "code",
   "execution_count": 110,
   "id": "382490e2-2468-4b82-bce0-24136c175274",
   "metadata": {},
   "outputs": [
    {
     "data": {
      "text/plain": [
       "'How do copy a file to a Docker container?'"
      ]
     },
     "execution_count": 110,
     "metadata": {},
     "output_type": "execute_result"
    }
   ],
   "source": [
    "query = \"How do copy a file to a Docker container?\"\n",
    "query"
   ]
  },
  {
   "cell_type": "code",
   "execution_count": 111,
   "id": "03644618-2ac4-46b4-8a10-ad3e50a41030",
   "metadata": {},
   "outputs": [],
   "source": [
    "def elastic_search(query):\n",
    "    search_query = {\n",
    "        \"size\": 3,\n",
    "        \"query\": {\n",
    "            \"bool\": {\n",
    "                \"must\": {\n",
    "                    \"multi_match\": {\n",
    "                        \"query\": query,\n",
    "                        \"fields\": [\"question^3\", \"text\", \"section\"],\n",
    "                        \"type\": \"best_fields\"\n",
    "                    }\n",
    "                },\n",
    "                \"filter\": {\n",
    "                    \"term\": {\n",
    "                        \"course\": \"machine-learning-zoomcamp\"\n",
    "                    }\n",
    "                }\n",
    "            }\n",
    "        }\n",
    "    }\n",
    "\n",
    "    response = es_client.search(index=index_name, body=search_query)\n",
    "\n",
    "    result_docs = []\n",
    "    \n",
    "    for hit in response['hits']['hits']:\n",
    "        result_docs.append(hit['_source'])\n",
    "\n",
    "    return result_docs"
   ]
  },
  {
   "cell_type": "code",
   "execution_count": 112,
   "id": "09a19e42-e0cf-4e3c-96db-640ad654ada7",
   "metadata": {},
   "outputs": [],
   "source": [
    "search_results = elastic_search(query)"
   ]
  },
  {
   "cell_type": "code",
   "execution_count": 113,
   "id": "05b5632e-0752-41d6-8f4e-a140e57b6e05",
   "metadata": {},
   "outputs": [
    {
     "data": {
      "text/plain": [
       "{'text': 'You can copy files from your local machine into a Docker container using the docker cp command. Here\\'s how to do it:\\nIn the Dockerfile, you can provide the folder containing the files that you want to copy over. The basic syntax is as follows:\\nCOPY [\"src/predict.py\", \"models/xgb_model.bin\", \"./\"]\\t\\t\\t\\t\\t\\t\\t\\t\\t\\t\\tGopakumar Gopinathan',\n",
       " 'section': '5. Deploying Machine Learning Models',\n",
       " 'question': 'How do I copy files from a different folder into docker container’s working directory?',\n",
       " 'course': 'machine-learning-zoomcamp'}"
      ]
     },
     "execution_count": 113,
     "metadata": {},
     "output_type": "execute_result"
    }
   ],
   "source": [
    "search_results[2]"
   ]
  },
  {
   "cell_type": "markdown",
   "id": "a85d0740-ef2d-49fa-b6bc-b4f29cb67d67",
   "metadata": {},
   "source": [
    "#### Question 5. Building a prompt"
   ]
  },
  {
   "cell_type": "code",
   "execution_count": 114,
   "id": "c3ca2c82-c2a4-4960-b4b4-b7949421e579",
   "metadata": {},
   "outputs": [],
   "source": [
    "def build_prompt(query, search_results):\n",
    "    # Template for each context entry\n",
    "    context_template = \"Q: {question}\\nA: {text}\"\n",
    "\n",
    "    # Build the context by formatting each search result\n",
    "    context_entries = []\n",
    "    for doc in search_results:\n",
    "        entry = context_template.format(\n",
    "            question=doc.get(\"question\", \"No question provided\"),\n",
    "            text=doc.get(\"text\", \"No answer provided\")\n",
    "        )\n",
    "        context_entries.append(entry)\n",
    "\n",
    "    # Join all entries with two line breaks\n",
    "    context = \"\\n\\n\".join(context_entries)\n",
    "\n",
    "    # Final prompt template\n",
    "    prompt_template = \"\"\"\n",
    "You're a course teaching assistant. Answer the QUESTION based on the CONTEXT from the FAQ database.\n",
    "Use only the facts from the CONTEXT when answering the QUESTION.\n",
    "\n",
    "QUESTION: {question}\n",
    "\n",
    "CONTEXT: {context}\n",
    "\"\"\".strip()\n",
    "\n",
    "    # Format the final prompt\n",
    "    prompt = prompt_template.format(question=query, context=context)\n",
    "    return prompt\n"
   ]
  },
  {
   "cell_type": "code",
   "execution_count": 115,
   "id": "522806e8-cc8d-45b1-bba9-c0c88ae061a1",
   "metadata": {
    "scrolled": true
   },
   "outputs": [
    {
     "name": "stdout",
     "output_type": "stream",
     "text": [
      "1446\n"
     ]
    }
   ],
   "source": [
    "final_prompt = build_prompt(query, search_results)\n",
    "prompt_length = len(final_prompt)\n",
    "print(prompt_length)"
   ]
  },
  {
   "cell_type": "markdown",
   "id": "db6d4e16-f443-43c5-bfd0-9cb11463dbdf",
   "metadata": {},
   "source": [
    "#### Question 6. Tokens"
   ]
  },
  {
   "cell_type": "code",
   "execution_count": null,
   "id": "ce2d9171-c796-40db-9b88-cbcde35d937a",
   "metadata": {},
   "outputs": [],
   "source": [
    "pip install tiktoken"
   ]
  },
  {
   "cell_type": "code",
   "execution_count": 72,
   "id": "752d23de-36c7-4116-a491-8cf0f2d62455",
   "metadata": {},
   "outputs": [],
   "source": [
    "import tiktoken"
   ]
  },
  {
   "cell_type": "code",
   "execution_count": 83,
   "id": "56c222ac-fe7d-4f10-aa86-ca655de9c05d",
   "metadata": {},
   "outputs": [
    {
     "name": "stdout",
     "output_type": "stream",
     "text": [
      "<Encoding 'o200k_base'>\n"
     ]
    }
   ],
   "source": [
    "encoding = tiktoken.encoding_for_model(\"gpt-4o\")\n",
    "print(encoding)"
   ]
  },
  {
   "cell_type": "code",
   "execution_count": 82,
   "id": "92655005-8e3d-437a-9fcb-ec39df6ddfb8",
   "metadata": {},
   "outputs": [
    {
     "name": "stdout",
     "output_type": "stream",
     "text": [
      "320\n"
     ]
    }
   ],
   "source": [
    "tokens = encoding.encode(final_prompt)\n",
    "print(len(tokens))"
   ]
  },
  {
   "cell_type": "markdown",
   "id": "13df9659-7197-4789-8afa-5712cc3970b5",
   "metadata": {},
   "source": [
    "#### Bonus question 1. Generating the answer"
   ]
  },
  {
   "cell_type": "markdown",
   "id": "d2cfe66d-bc2d-45a0-987f-9c1d92c545e9",
   "metadata": {},
   "source": [
    "Load relevant libraries and set up the environment."
   ]
  },
  {
   "cell_type": "code",
   "execution_count": 84,
   "id": "ff557fb8-268f-4d23-a512-90d0c8c71768",
   "metadata": {},
   "outputs": [],
   "source": [
    "import os\n",
    "from dotenv import load_dotenv\n",
    "from mistralai import Mistral"
   ]
  },
  {
   "cell_type": "code",
   "execution_count": 90,
   "id": "54e0c9b6-01b8-47c3-9406-a6bc441bde09",
   "metadata": {},
   "outputs": [],
   "source": [
    "# Load environment variables from .env file\n",
    "load_dotenv()\n",
    "\n",
    "api_key = os.getenv(\"MISTRAL_API_KEY\")\n",
    "model = \"mistral-large-latest\"\n",
    "client = Mistral(api_key=api_key)"
   ]
  },
  {
   "cell_type": "code",
   "execution_count": 91,
   "id": "523dc7d6-924d-49fa-bc21-82fc3f7eeded",
   "metadata": {},
   "outputs": [],
   "source": [
    "def llm(prompt):\n",
    "    response = client.chat.complete(\n",
    "    model=model,\n",
    "    messages=[\n",
    "        {\"role\": \"user\",\n",
    "         \"content\": prompt}]\n",
    "    )\n",
    "\n",
    "    return response.choices[0].message.content"
   ]
  },
  {
   "cell_type": "code",
   "execution_count": 88,
   "id": "1f57843a-4c24-4ad5-8238-aa3273ff3e8e",
   "metadata": {},
   "outputs": [],
   "source": [
    "query = \"How do copy a file to a Docker container?\"\n",
    "\n",
    "def rag(query):\n",
    "    search_results = elastic_search(query)\n",
    "    prompt = build_prompt(query, search_results)\n",
    "    answer = llm(prompt)\n",
    "    return answer"
   ]
  },
  {
   "cell_type": "code",
   "execution_count": 118,
   "id": "df175e73-307d-48d8-8277-e2a015a15dde",
   "metadata": {},
   "outputs": [
    {
     "name": "stdout",
     "output_type": "stream",
     "text": [
      "To copy a file to a Docker container, you can use the `docker cp` command. The basic syntax is as follows:\n",
      "\n",
      "```\n",
      "docker cp /path/to/local/file_or_directory container_id:/path/in/container\n",
      "```\n"
     ]
    }
   ],
   "source": [
    "response = rag(query)\n",
    "print(response)"
   ]
  },
  {
   "cell_type": "markdown",
   "id": "c7f1fd4f-4521-4a61-93eb-5ab399a70557",
   "metadata": {},
   "source": [
    "#### Bonus question 2. Calculating the costs"
   ]
  },
  {
   "cell_type": "code",
   "execution_count": 120,
   "id": "41e0d709-9233-4668-bbd0-da34176e6adf",
   "metadata": {},
   "outputs": [],
   "source": [
    "input_tokens = len(encoding.encode(final_prompt))\n",
    "output_tokens = len(encoding.encode(response))"
   ]
  },
  {
   "cell_type": "code",
   "execution_count": 121,
   "id": "6781e52d-3b76-4905-8809-4a6a049805f2",
   "metadata": {},
   "outputs": [
    {
     "name": "stdout",
     "output_type": "stream",
     "text": [
      "Input tokens: 320\n",
      "Output tokens: 45\n",
      "Total cost: $0.0023\n"
     ]
    }
   ],
   "source": [
    "# Pricing per 1K tokens\n",
    "input_price_per_1k = 0.005\n",
    "output_price_per_1k = 0.015\n",
    "\n",
    "# Calculate costs\n",
    "input_cost = (input_tokens / 1000) * input_price_per_1k\n",
    "output_cost = (output_tokens / 1000) * output_price_per_1k\n",
    "total_cost = input_cost + output_cost\n",
    "\n",
    "print(f\"Input tokens: {input_tokens}\")\n",
    "print(f\"Output tokens: {output_tokens}\")\n",
    "print(f\"Total cost: ${total_cost:.4f}\")"
   ]
  }
 ],
 "metadata": {
  "kernelspec": {
   "display_name": "Python 3 (ipykernel)",
   "language": "python",
   "name": "python3"
  },
  "language_info": {
   "codemirror_mode": {
    "name": "ipython",
    "version": 3
   },
   "file_extension": ".py",
   "mimetype": "text/x-python",
   "name": "python",
   "nbconvert_exporter": "python",
   "pygments_lexer": "ipython3",
   "version": "3.12.1"
  }
 },
 "nbformat": 4,
 "nbformat_minor": 5
}
