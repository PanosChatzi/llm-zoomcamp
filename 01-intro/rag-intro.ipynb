{
 "cells": [
  {
   "cell_type": "markdown",
   "id": "4cdccd42-542a-4290-b88d-5e605ad681e3",
   "metadata": {},
   "source": [
    "# Introduction"
   ]
  },
  {
   "cell_type": "markdown",
   "id": "84c0a5b1-6cdf-4262-8217-7647543cf445",
   "metadata": {},
   "source": [
    "## Load libraries and environment"
   ]
  },
  {
   "cell_type": "code",
   "execution_count": null,
   "id": "f1b8517a-d2d8-42a8-b359-67eadcf452eb",
   "metadata": {},
   "outputs": [],
   "source": [
    "import minsearch\n",
    "import json\n",
    "import os\n",
    "from dotenv import load_dotenv\n",
    "from mistralai import Mistral"
   ]
  },
  {
   "cell_type": "code",
   "execution_count": null,
   "id": "4fb50ae4-2534-4c8e-b5b6-4738c4d0a148",
   "metadata": {},
   "outputs": [],
   "source": [
    "# Load environment variables from .env file\n",
    "load_dotenv()\n",
    "\n",
    "api_key = os.getenv(\"MISTRAL_API_KEY\")\n",
    "model = \"mistral-large-latest\"\n",
    "client = Mistral(api_key=api_key)"
   ]
  },
  {
   "cell_type": "code",
   "execution_count": null,
   "id": "92665209-44e3-4ae8-9d24-618a6c60fea4",
   "metadata": {},
   "outputs": [],
   "source": [
    "with open('documents.json', 'rt') as f_in:\n",
    "    docs_raw = json.load(f_in)"
   ]
  },
  {
   "cell_type": "code",
   "execution_count": null,
   "id": "51adce10-6e47-4927-80fe-89938ad7b67d",
   "metadata": {},
   "outputs": [],
   "source": [
    "docs_raw"
   ]
  },
  {
   "cell_type": "code",
   "execution_count": null,
   "id": "cb3b98fb-3f9e-4b3d-a99f-d9c0c905bd9e",
   "metadata": {},
   "outputs": [],
   "source": [
    "documents = []\n",
    "\n",
    "for course_dict in docs_raw:\n",
    "    for doc in course_dict['documents']:\n",
    "        doc['course'] = course_dict['course']\n",
    "        documents.append(doc)"
   ]
  },
  {
   "cell_type": "code",
   "execution_count": null,
   "id": "8cbaf4bc-ed4e-4158-890a-aa163e3aa4f4",
   "metadata": {},
   "outputs": [],
   "source": [
    "documents[0]"
   ]
  },
  {
   "cell_type": "markdown",
   "id": "42ac127a-8839-4c03-b088-89076b537216",
   "metadata": {},
   "source": [
    "## Using minsearch"
   ]
  },
  {
   "cell_type": "code",
   "execution_count": null,
   "id": "6a6c779b-90b6-44a4-bea0-559a1808ab62",
   "metadata": {},
   "outputs": [],
   "source": [
    "index = minsearch.Index(\n",
    "    text_fields=[\"question\", \"text\", \"section\"],\n",
    "    keyword_fields=[\"course\"]\n",
    ")"
   ]
  },
  {
   "cell_type": "code",
   "execution_count": null,
   "id": "86de42e2-cad0-4614-874a-c0712f078650",
   "metadata": {},
   "outputs": [],
   "source": [
    "index.fit(documents)"
   ]
  },
  {
   "cell_type": "markdown",
   "id": "67d0b8d3-84d8-4f1e-ba40-410779dfcd7e",
   "metadata": {},
   "source": [
    "**Rag worklow**\n",
    "1. Define the user query\n",
    "2. Perform the search\n",
    "3. Build the prompt from search results\n",
    "4. Get answer from LLM"
   ]
  },
  {
   "cell_type": "markdown",
   "id": "da7d78cb-7189-4869-aba1-faf1e29f8189",
   "metadata": {},
   "source": [
    "This makes the code more modular. For example, if we want to replace minsearch with elastic search,\n",
    "we just have to replace the *search* function. If we want to use another LLM we replace the *llm* function."
   ]
  },
  {
   "cell_type": "code",
   "execution_count": null,
   "id": "747a9e93-5c4a-4787-b364-a65cbffa7b01",
   "metadata": {},
   "outputs": [],
   "source": [
    "def search(query):\n",
    "    boost = {'question': 3.0, 'section': 0.5}\n",
    "\n",
    "    results = index.search(\n",
    "        query=query,\n",
    "        filter_dict = {'course': 'data-engineering-zoomcamp'},\n",
    "        boost_dict = boost,\n",
    "        num_results=5\n",
    "    )\n",
    "\n",
    "    return results"
   ]
  },
  {
   "cell_type": "code",
   "execution_count": null,
   "id": "084191b8-2d41-43fe-a25f-bbdd69507d56",
   "metadata": {},
   "outputs": [],
   "source": [
    "def build_prompt(query, search_results):\n",
    "    prompt_template = \"\"\"\n",
    "You are a course teaching assistant. Answer the QUESTION based on the CONTEXT from the FAQ database. \n",
    "Use only the facts from the CONTEXT when answering the QUESTION.\n",
    "If the CONTEXT doesn't contain the answer, output NONE.\n",
    "\n",
    "QUESTION: {question}\n",
    "\n",
    "CONTEXT: {context}\n",
    "\"\"\".strip()\n",
    "\n",
    "    context = \"\"\n",
    "    \n",
    "    for doc in search_results:\n",
    "        context = context + f\"section: {doc['section']}\\nquestion: {doc['question']}\\nanswer: {doc['text']}\\n\\n\"\n",
    "    \n",
    "    prompt = prompt_template.format(question=query, context=context).strip()\n",
    "    return prompt"
   ]
  },
  {
   "cell_type": "code",
   "execution_count": null,
   "id": "1d54fbf6-b242-440a-83fc-e1951072ac50",
   "metadata": {},
   "outputs": [],
   "source": [
    "def llm(prompt):\n",
    "    response = client.chat.complete(\n",
    "    model=model,\n",
    "    messages=[\n",
    "        {\"role\": \"user\",\n",
    "         \"content\": prompt}]\n",
    "    )\n",
    "\n",
    "    return response.choices[0].message.content"
   ]
  },
  {
   "cell_type": "code",
   "execution_count": null,
   "id": "2c3456b2-7b1c-4070-ac3b-eed5b9731822",
   "metadata": {},
   "outputs": [],
   "source": [
    "query = 'how do I run kafka'\n",
    "\n",
    "def rag(query):\n",
    "    search_results = search(query)\n",
    "    prompt = build_prompt(query, search_results)\n",
    "    answer = llm(prompt)\n",
    "    return answer"
   ]
  },
  {
   "cell_type": "code",
   "execution_count": null,
   "id": "04d5f890-6ffa-4b33-9556-479f6331a8aa",
   "metadata": {},
   "outputs": [],
   "source": [
    "rag('The course has already started, can I still enroll?')"
   ]
  },
  {
   "cell_type": "markdown",
   "id": "c9aa4461-9a8b-4583-92e9-d84cf3c0e7d5",
   "metadata": {},
   "source": [
    "## Elastic search"
   ]
  },
  {
   "cell_type": "code",
   "execution_count": null,
   "id": "371aa997-cd3a-427a-b476-e91cd1949bc6",
   "metadata": {},
   "outputs": [],
   "source": [
    "from elasticsearch import Elasticsearch"
   ]
  },
  {
   "cell_type": "code",
   "execution_count": null,
   "id": "bfec89c9-0a6e-4fe1-a4c5-cd161187491f",
   "metadata": {},
   "outputs": [],
   "source": [
    "es_client = Elasticsearch('http://localhost:9200')"
   ]
  },
  {
   "cell_type": "code",
   "execution_count": null,
   "id": "e9b85312-4fd6-4545-90e9-09904a5d1bf6",
   "metadata": {},
   "outputs": [],
   "source": [
    "es_client.info()"
   ]
  },
  {
   "cell_type": "markdown",
   "id": "94859a8d-567c-4554-b2f6-24dc6aaaa58e",
   "metadata": {},
   "source": [
    "An index in elastic search is similar to a table in a relational database."
   ]
  },
  {
   "cell_type": "code",
   "execution_count": null,
   "id": "70d0bf70-a9c7-46e0-910c-87b87fd0e9ab",
   "metadata": {},
   "outputs": [],
   "source": [
    "index_settings = {\n",
    "    \"settings\": {\n",
    "        \"number_of_shards\": 1,\n",
    "        \"number_of_replicas\": 0\n",
    "    },\n",
    "    \"mappings\": {\n",
    "        \"properties\": {\n",
    "            \"text\": {\"type\": \"text\"},\n",
    "            \"section\": {\"type\": \"text\"},\n",
    "            \"question\": {\"type\": \"text\"},\n",
    "            \"course\": {\"type\": \"keyword\"} \n",
    "        }\n",
    "    }\n",
    "}\n",
    "\n",
    "index_name = \"course-questions\"\n",
    "\n",
    "es_client.indices.create(index=index_name, body=index_settings)"
   ]
  },
  {
   "cell_type": "code",
   "execution_count": null,
   "id": "a1c255f4-0d10-40db-ae12-6fb3cf4648d4",
   "metadata": {},
   "outputs": [],
   "source": [
    "documents[0]"
   ]
  },
  {
   "cell_type": "code",
   "execution_count": null,
   "id": "fbefb160-f547-40c1-90a8-778c7f50b902",
   "metadata": {},
   "outputs": [],
   "source": [
    "from tqdm.auto import tqdm"
   ]
  },
  {
   "cell_type": "code",
   "execution_count": null,
   "id": "e053ddef-17c8-4c10-8ecd-0ef03407acb4",
   "metadata": {},
   "outputs": [],
   "source": [
    "for doc in documents:\n",
    "    es_client.index(index=index_name, document=doc)"
   ]
  },
  {
   "cell_type": "markdown",
   "id": "b61ef1e8-2a7b-494e-80cc-76660f047008",
   "metadata": {},
   "source": [
    "Define elastic_search function."
   ]
  },
  {
   "cell_type": "code",
   "execution_count": null,
   "id": "da01a041-a24e-4f02-a87b-d82c4b8f7526",
   "metadata": {},
   "outputs": [],
   "source": [
    "query = 'I just discovered the course. Can I still join it?'"
   ]
  },
  {
   "cell_type": "code",
   "execution_count": null,
   "id": "ba6d885d-77cd-491c-b316-2b58a38758b8",
   "metadata": {},
   "outputs": [],
   "source": [
    "def elastic_search(query):\n",
    "    search_query = {\n",
    "        \"size\": 5,\n",
    "        \"query\": {\n",
    "            \"bool\": {\n",
    "                \"must\": {\n",
    "                    \"multi_match\": {\n",
    "                        \"query\": query,\n",
    "                        \"fields\": [\"question^3\", \"text\", \"section\"],\n",
    "                        \"type\": \"best_fields\"\n",
    "                    }\n",
    "                },\n",
    "                \"filter\": {\n",
    "                    \"term\": {\n",
    "                        \"course\": \"data-engineering-zoomcamp\"\n",
    "                    }\n",
    "                }\n",
    "            }\n",
    "        }\n",
    "    }\n",
    "\n",
    "    response = es_client.search(index=index_name, body=search_query)\n",
    "\n",
    "    result_docs = []\n",
    "    \n",
    "    for hit in response['hits']['hits']:\n",
    "        result_docs.append(hit['_source'])\n",
    "\n",
    "    return result_docs"
   ]
  },
  {
   "cell_type": "code",
   "execution_count": 104,
   "id": "79314528-7af1-4877-98c5-dd408cc02251",
   "metadata": {},
   "outputs": [
    {
     "data": {
      "text/plain": [
       "[{'text': \"Yes, even if you don't register, you're still eligible to submit the homeworks.\\nBe aware, however, that there will be deadlines for turning in the final projects. So don't leave everything for the last minute.\",\n",
       "  'section': 'General course-related questions',\n",
       "  'question': 'Course - Can I still join the course after the start date?',\n",
       "  'course': 'data-engineering-zoomcamp'},\n",
       " {'text': \"Yes, even if you don't register, you're still eligible to submit the homeworks.\\nBe aware, however, that there will be deadlines for turning in the final projects. So don't leave everything for the last minute.\",\n",
       "  'section': 'General course-related questions',\n",
       "  'question': 'Course - Can I still join the course after the start date?',\n",
       "  'course': 'data-engineering-zoomcamp'},\n",
       " {'text': 'Yes, we will keep all the materials after the course finishes, so you can follow the course at your own pace after it finishes.\\nYou can also continue looking at the homeworks and continue preparing for the next cohort. I guess you can also start working on your final capstone project.',\n",
       "  'section': 'General course-related questions',\n",
       "  'question': 'Course - Can I follow the course after it finishes?',\n",
       "  'course': 'data-engineering-zoomcamp'},\n",
       " {'text': 'Yes, we will keep all the materials after the course finishes, so you can follow the course at your own pace after it finishes.\\nYou can also continue looking at the homeworks and continue preparing for the next cohort. I guess you can also start working on your final capstone project.',\n",
       "  'section': 'General course-related questions',\n",
       "  'question': 'Course - Can I follow the course after it finishes?',\n",
       "  'course': 'data-engineering-zoomcamp'},\n",
       " {'text': 'You can start by installing and setting up all the dependencies and requirements:\\nGoogle cloud account\\nGoogle Cloud SDK\\nPython 3 (installed with Anaconda)\\nTerraform\\nGit\\nLook over the prerequisites and syllabus to see if you are comfortable with these subjects.',\n",
       "  'section': 'General course-related questions',\n",
       "  'question': 'Course - What can I do before the course starts?',\n",
       "  'course': 'data-engineering-zoomcamp'}]"
      ]
     },
     "execution_count": 104,
     "metadata": {},
     "output_type": "execute_result"
    }
   ],
   "source": [
    "elastic_search(query)"
   ]
  },
  {
   "cell_type": "markdown",
   "id": "1d2c8cd4-3ddf-4841-abcc-0d2db56d4fa0",
   "metadata": {},
   "source": [
    "Now we have to adjust the rag function."
   ]
  },
  {
   "cell_type": "code",
   "execution_count": null,
   "id": "2f12fc46-47f6-44e2-aa3f-2178455ca5be",
   "metadata": {},
   "outputs": [],
   "source": [
    "query = 'how do I run kafka'\n",
    "\n",
    "def rag(query):\n",
    "    search_results = elastic_search(query)\n",
    "    prompt = build_prompt(query, search_results)\n",
    "    answer = llm(prompt)\n",
    "    return answer"
   ]
  },
  {
   "cell_type": "code",
   "execution_count": null,
   "id": "89d59edf-b49f-4487-b795-e7b1e169306f",
   "metadata": {},
   "outputs": [],
   "source": [
    "rag(query)"
   ]
  }
 ],
 "metadata": {
  "kernelspec": {
   "display_name": "Python 3 (ipykernel)",
   "language": "python",
   "name": "python3"
  },
  "language_info": {
   "codemirror_mode": {
    "name": "ipython",
    "version": 3
   },
   "file_extension": ".py",
   "mimetype": "text/x-python",
   "name": "python",
   "nbconvert_exporter": "python",
   "pygments_lexer": "ipython3",
   "version": "3.12.1"
  }
 },
 "nbformat": 4,
 "nbformat_minor": 5
}
